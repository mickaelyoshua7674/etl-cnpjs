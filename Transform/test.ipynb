{
 "cells": [
  {
   "cell_type": "code",
   "execution_count": null,
   "metadata": {},
   "outputs": [],
   "source": [
    "import dask.dataframe as dd"
   ]
  },
  {
   "cell_type": "markdown",
   "metadata": {},
   "source": [
    "# Cnaes"
   ]
  },
  {
   "cell_type": "code",
   "execution_count": null,
   "metadata": {},
   "outputs": [],
   "source": [
    "ddf = dd.read_csv(\"../Extract/files/Estabelecimentos*.csv\", header=None, encoding=\"latin-1\", sep=\";\", dtype=str)\n",
    "ddf.columns = [\"cnpj_basico\",\"cnpj_ordem\",\"cnpj_dv\",\"identificador\",\"nome_fantasia\",\"situacao_cadastral\",\"data_situacao_cadastral\",\"motivo_situacao_cadastral\",\"nome_cidade_exterior\",\"cod_pais\",\"data_inicio_atividade\",\"cnae_fiscal_principal\",\"cnae_fiscal_secundario\",\"tipo_logradouro\",\"logradouro\",\"numero\",\"complemento\",\"bairro\",\"cep\",\"uf\",\"cod_municipio\",\"ddd1\",\"telefone1\",\"ddd2\",\"telefone2\",\"ddd_fax\",\"fax\",\"email\",\"situacao_especial\",\"data_situacao_especial\"]\n",
    "ddf.info()"
   ]
  },
  {
   "cell_type": "code",
   "execution_count": null,
   "metadata": {},
   "outputs": [],
   "source": [
    "ddf.loc[ddf[[\"cnpj_basico\",\"cnpj_ordem\",\"cnpj_dv\"]].values]"
   ]
  },
  {
   "cell_type": "code",
   "execution_count": null,
   "metadata": {},
   "outputs": [],
   "source": [
    "ddf.loc[ddf[\"cnpj_basico\"] == \"19551234\"].compute()"
   ]
  },
  {
   "cell_type": "code",
   "execution_count": null,
   "metadata": {},
   "outputs": [],
   "source": [
    "\"19551234\";\"0001\";\"55\""
   ]
  }
 ],
 "metadata": {
  "kernelspec": {
   "display_name": ".venv",
   "language": "python",
   "name": "python3"
  },
  "language_info": {
   "codemirror_mode": {
    "name": "ipython",
    "version": 3
   },
   "file_extension": ".py",
   "mimetype": "text/x-python",
   "name": "python",
   "nbconvert_exporter": "python",
   "pygments_lexer": "ipython3",
   "version": "3.11.5"
  },
  "orig_nbformat": 4
 },
 "nbformat": 4,
 "nbformat_minor": 2
}
