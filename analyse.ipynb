{
 "cells": [
  {
   "cell_type": "code",
   "execution_count": 6,
   "metadata": {},
   "outputs": [],
   "source": [
    "import pandas as pd\n",
    "import json"
   ]
  },
  {
   "cell_type": "code",
   "execution_count": 7,
   "metadata": {},
   "outputs": [],
   "source": [
    "with open(\"all_dtypes.json\", \"r\") as f:\n",
    "    dtypes = json.load(f)"
   ]
  },
  {
   "cell_type": "code",
   "execution_count": 8,
   "metadata": {},
   "outputs": [
    {
     "data": {
      "text/plain": [
       "['cnpj_basico',\n",
       " 'razao_social',\n",
       " 'natureza_juridica',\n",
       " 'qualificacoes_responsavel',\n",
       " 'capital_social',\n",
       " 'porte_empresa',\n",
       " 'ente_federativo_responsavel']"
      ]
     },
     "execution_count": 8,
     "metadata": {},
     "output_type": "execute_result"
    }
   ],
   "source": [
    "columns = [k for k in dtypes[\"empresas\"].keys()]\n",
    "columns"
   ]
  },
  {
   "cell_type": "code",
   "execution_count": 10,
   "metadata": {},
   "outputs": [
    {
     "data": {
      "text/plain": [
       "'cnpj_basico,razao_social,natureza_juridica,qualificacoes_responsavel,capital_social,porte_empresa,ente_federativo_responsavel'"
      ]
     },
     "execution_count": 10,
     "metadata": {},
     "output_type": "execute_result"
    }
   ],
   "source": [
    "columns = \",\".join([k for k in dtypes[\"empresas\"].keys()])\n",
    "columns"
   ]
  },
  {
   "cell_type": "code",
   "execution_count": null,
   "metadata": {},
   "outputs": [],
   "source": []
  },
  {
   "cell_type": "code",
   "execution_count": null,
   "metadata": {},
   "outputs": [],
   "source": []
  },
  {
   "cell_type": "code",
   "execution_count": null,
   "metadata": {},
   "outputs": [],
   "source": []
  },
  {
   "cell_type": "code",
   "execution_count": null,
   "metadata": {},
   "outputs": [],
   "source": []
  },
  {
   "cell_type": "code",
   "execution_count": null,
   "metadata": {},
   "outputs": [],
   "source": []
  },
  {
   "cell_type": "code",
   "execution_count": 9,
   "metadata": {},
   "outputs": [
    {
     "data": {
      "text/html": [
       "<div>\n",
       "<style scoped>\n",
       "    .dataframe tbody tr th:only-of-type {\n",
       "        vertical-align: middle;\n",
       "    }\n",
       "\n",
       "    .dataframe tbody tr th {\n",
       "        vertical-align: top;\n",
       "    }\n",
       "\n",
       "    .dataframe thead th {\n",
       "        text-align: right;\n",
       "    }\n",
       "</style>\n",
       "<table border=\"1\" class=\"dataframe\">\n",
       "  <thead>\n",
       "    <tr style=\"text-align: right;\">\n",
       "      <th></th>\n",
       "      <th>41273594</th>\n",
       "      <th>OZINETE DELFINO CALDAS 41608224287</th>\n",
       "      <th>2135</th>\n",
       "      <th>50</th>\n",
       "      <th>5000,00</th>\n",
       "      <th>01</th>\n",
       "      <th>Unnamed: 6</th>\n",
       "    </tr>\n",
       "  </thead>\n",
       "  <tbody>\n",
       "    <tr>\n",
       "      <th>0</th>\n",
       "      <td>41273595</td>\n",
       "      <td>GILVAN PEREIRA XAVIER 01363090380</td>\n",
       "      <td>2135</td>\n",
       "      <td>50</td>\n",
       "      <td>3000,00</td>\n",
       "      <td>1.0</td>\n",
       "      <td>NaN</td>\n",
       "    </tr>\n",
       "    <tr>\n",
       "      <th>1</th>\n",
       "      <td>41273596</td>\n",
       "      <td>RODRIGO JOSE FERREIRA LOPES 05010247941</td>\n",
       "      <td>2135</td>\n",
       "      <td>50</td>\n",
       "      <td>10000,00</td>\n",
       "      <td>1.0</td>\n",
       "      <td>NaN</td>\n",
       "    </tr>\n",
       "    <tr>\n",
       "      <th>2</th>\n",
       "      <td>41273597</td>\n",
       "      <td>PACHARRUS QUEIROZ DA COSTA E SILVA 03618384335</td>\n",
       "      <td>2135</td>\n",
       "      <td>50</td>\n",
       "      <td>5000,00</td>\n",
       "      <td>1.0</td>\n",
       "      <td>NaN</td>\n",
       "    </tr>\n",
       "    <tr>\n",
       "      <th>3</th>\n",
       "      <td>41273598</td>\n",
       "      <td>GLORIA VIANA DIAS DA SILVA 13118961716</td>\n",
       "      <td>2135</td>\n",
       "      <td>50</td>\n",
       "      <td>1100,00</td>\n",
       "      <td>1.0</td>\n",
       "      <td>NaN</td>\n",
       "    </tr>\n",
       "    <tr>\n",
       "      <th>4</th>\n",
       "      <td>41273599</td>\n",
       "      <td>ANA PAULA DA SILVA DE PAULA 04659802957</td>\n",
       "      <td>2135</td>\n",
       "      <td>50</td>\n",
       "      <td>2000,00</td>\n",
       "      <td>1.0</td>\n",
       "      <td>NaN</td>\n",
       "    </tr>\n",
       "  </tbody>\n",
       "</table>\n",
       "</div>"
      ],
      "text/plain": [
       "   41273594              OZINETE DELFINO CALDAS 41608224287  2135  50  \\\n",
       "0  41273595               GILVAN PEREIRA XAVIER 01363090380  2135  50   \n",
       "1  41273596         RODRIGO JOSE FERREIRA LOPES 05010247941  2135  50   \n",
       "2  41273597  PACHARRUS QUEIROZ DA COSTA E SILVA 03618384335  2135  50   \n",
       "3  41273598          GLORIA VIANA DIAS DA SILVA 13118961716  2135  50   \n",
       "4  41273599         ANA PAULA DA SILVA DE PAULA 04659802957  2135  50   \n",
       "\n",
       "    5000,00   01 Unnamed: 6  \n",
       "0   3000,00  1.0        NaN  \n",
       "1  10000,00  1.0        NaN  \n",
       "2   5000,00  1.0        NaN  \n",
       "3   1100,00  1.0        NaN  \n",
       "4   2000,00  1.0        NaN  "
      ]
     },
     "execution_count": 9,
     "metadata": {},
     "output_type": "execute_result"
    }
   ],
   "source": [
    "\n",
    "empresas = pd.read_csv(\"rawfiles/Empresas0.csv\", delimiter=\";\", encoding=\"latin-1\", nrows=100_000, dtype=dtypes[\"empresas\"])\n",
    "empresas.head()"
   ]
  },
  {
   "cell_type": "code",
   "execution_count": null,
   "metadata": {},
   "outputs": [],
   "source": [
    "estabalecimentos = pd.read_csv(\"rawfiles/Estabelecimentos0.csv\", delimiter=\";\", encoding=\"latin-1\", nrows=100_000)\n",
    "estabalecimentos.head()"
   ]
  },
  {
   "cell_type": "code",
   "execution_count": null,
   "metadata": {},
   "outputs": [],
   "source": [
    "socios = pd.read_csv(\"rawfiles/Socios0.csv\", delimiter=\";\", encoding=\"latin-1\", header=False, nrows=100_000)\n",
    "socios.head()"
   ]
  }
 ],
 "metadata": {
  "kernelspec": {
   "display_name": "Python 3",
   "language": "python",
   "name": "python3"
  },
  "language_info": {
   "codemirror_mode": {
    "name": "ipython",
    "version": 3
   },
   "file_extension": ".py",
   "mimetype": "text/x-python",
   "name": "python",
   "nbconvert_exporter": "python",
   "pygments_lexer": "ipython3",
   "version": "3.10.12"
  },
  "orig_nbformat": 4
 },
 "nbformat": 4,
 "nbformat_minor": 2
}
