{
 "cells": [
  {
   "cell_type": "code",
   "execution_count": 145,
   "metadata": {},
   "outputs": [],
   "source": [
    "from helper_load import get_engine_database\n",
    "from collections import defaultdict\n",
    "import pandas as pd\n",
    "\n",
    "with open(\"./secrets.txt\", \"r\") as f:\n",
    "    driver, username, password, host, port, database = f.read().split(\",\")\n",
    "engine = get_engine_database(driver, username, password, host, port, database)"
   ]
  },
  {
   "cell_type": "code",
   "execution_count": 146,
   "metadata": {},
   "outputs": [
    {
     "data": {
      "text/html": [
       "<div>\n",
       "<style scoped>\n",
       "    .dataframe tbody tr th:only-of-type {\n",
       "        vertical-align: middle;\n",
       "    }\n",
       "\n",
       "    .dataframe tbody tr th {\n",
       "        vertical-align: top;\n",
       "    }\n",
       "\n",
       "    .dataframe thead th {\n",
       "        text-align: right;\n",
       "    }\n",
       "</style>\n",
       "<table border=\"1\" class=\"dataframe\">\n",
       "  <thead>\n",
       "    <tr style=\"text-align: right;\">\n",
       "      <th></th>\n",
       "      <th>CNPJ Básico</th>\n",
       "      <th>Identificador Sócio</th>\n",
       "      <th>Nome Sócio</th>\n",
       "      <th>CNPJ/CPF Sócio</th>\n",
       "      <th>Qualificação Sócio</th>\n",
       "      <th>Data Entrada Sociedade</th>\n",
       "      <th>País</th>\n",
       "      <th>CPF Representante Legal</th>\n",
       "      <th>Nome Representante Legal</th>\n",
       "    </tr>\n",
       "  </thead>\n",
       "  <tbody>\n",
       "    <tr>\n",
       "      <th>0</th>\n",
       "      <td>34215594</td>\n",
       "      <td>PESSOA FISICA</td>\n",
       "      <td>RONALDO BALEEIRO VIOTTO</td>\n",
       "      <td>***477459**</td>\n",
       "      <td>Sócio</td>\n",
       "      <td>28/07/2022</td>\n",
       "      <td>NAO DECLARADOS</td>\n",
       "      <td>***000000**</td>\n",
       "      <td>NaN</td>\n",
       "    </tr>\n",
       "    <tr>\n",
       "      <th>1</th>\n",
       "      <td>34215594</td>\n",
       "      <td>PESSOA FISICA</td>\n",
       "      <td>STEFANIE CAMILA DE OLIVEIRA MALTA</td>\n",
       "      <td>***612599**</td>\n",
       "      <td>Sócio-Administrador</td>\n",
       "      <td>28/07/2022</td>\n",
       "      <td>NAO DECLARADOS</td>\n",
       "      <td>***000000**</td>\n",
       "      <td>NaN</td>\n",
       "    </tr>\n",
       "    <tr>\n",
       "      <th>2</th>\n",
       "      <td>32803268</td>\n",
       "      <td>PESSOA FISICA</td>\n",
       "      <td>ABEL RODRIGUES</td>\n",
       "      <td>***122309**</td>\n",
       "      <td>Sócio</td>\n",
       "      <td>18/02/2019</td>\n",
       "      <td>NAO DECLARADOS</td>\n",
       "      <td>***000000**</td>\n",
       "      <td>NaN</td>\n",
       "    </tr>\n",
       "    <tr>\n",
       "      <th>3</th>\n",
       "      <td>38143484</td>\n",
       "      <td>PESSOA FISICA</td>\n",
       "      <td>ISABELA LAHUTT ANTONIO</td>\n",
       "      <td>***399809**</td>\n",
       "      <td>Sócio-Administrador</td>\n",
       "      <td>19/08/2020</td>\n",
       "      <td>NAO DECLARADOS</td>\n",
       "      <td>***000000**</td>\n",
       "      <td>NaN</td>\n",
       "    </tr>\n",
       "    <tr>\n",
       "      <th>4</th>\n",
       "      <td>24680078</td>\n",
       "      <td>PESSOA FISICA</td>\n",
       "      <td>ALINE DE ARRUDA GARCIA DOS SANTOS</td>\n",
       "      <td>***602509**</td>\n",
       "      <td>Sócio-Administrador</td>\n",
       "      <td>28/04/2016</td>\n",
       "      <td>NAO DECLARADOS</td>\n",
       "      <td>***000000**</td>\n",
       "      <td>NaN</td>\n",
       "    </tr>\n",
       "  </tbody>\n",
       "</table>\n",
       "</div>"
      ],
      "text/plain": [
       "   CNPJ Básico Identificador Sócio                         Nome Sócio  \\\n",
       "0     34215594       PESSOA FISICA            RONALDO BALEEIRO VIOTTO   \n",
       "1     34215594       PESSOA FISICA  STEFANIE CAMILA DE OLIVEIRA MALTA   \n",
       "2     32803268       PESSOA FISICA                     ABEL RODRIGUES   \n",
       "3     38143484       PESSOA FISICA             ISABELA LAHUTT ANTONIO   \n",
       "4     24680078       PESSOA FISICA  ALINE DE ARRUDA GARCIA DOS SANTOS   \n",
       "\n",
       "  CNPJ/CPF Sócio   Qualificação Sócio Data Entrada Sociedade            País  \\\n",
       "0    ***477459**                Sócio             28/07/2022  NAO DECLARADOS   \n",
       "1    ***612599**  Sócio-Administrador             28/07/2022  NAO DECLARADOS   \n",
       "2    ***122309**                Sócio             18/02/2019  NAO DECLARADOS   \n",
       "3    ***399809**  Sócio-Administrador             19/08/2020  NAO DECLARADOS   \n",
       "4    ***602509**  Sócio-Administrador             28/04/2016  NAO DECLARADOS   \n",
       "\n",
       "  CPF Representante Legal  Nome Representante Legal  \n",
       "0             ***000000**                       NaN  \n",
       "1             ***000000**                       NaN  \n",
       "2             ***000000**                       NaN  \n",
       "3             ***000000**                       NaN  \n",
       "4             ***000000**                       NaN  "
      ]
     },
     "execution_count": 146,
     "metadata": {},
     "output_type": "execute_result"
    }
   ],
   "source": [
    "socios = pd.read_excel(\"Empresas-Sócios_CNAE-9602501_Cidade-Maringa_test_1.xlsx\", sheet_name=\"Sócios\")\n",
    "socios.head()"
   ]
  },
  {
   "cell_type": "code",
   "execution_count": 147,
   "metadata": {},
   "outputs": [],
   "source": [
    "def get_data(nomes: list[str], cnpjs_cpfs: list[str], telefones_coletados: list[str]=[]) -> tuple[dict, set]:\n",
    "    socio_numero_dict = defaultdict(str)\n",
    "    for nome, cnpj_cpf in zip(nomes, cnpjs_cpfs):\n",
    "        with engine.begin() as conn:\n",
    "            qry = f\"\"\"SELECT telefone FROM public.socio_telefone\n",
    "            WHERE nome_socio = '{nome}' AND cnpj_cpf_socio = '{cnpj_cpf}' AND telefone <> ' ';\"\"\"\n",
    "\n",
    "            socio_numero_dict[f\"{nome}-{cnpj_cpf}\"] = pd.read_sql(qry, conn).dropna().drop_duplicates()[\"telefone\"].values[0]\n",
    "\n",
    "    todos_telefones = set()\n",
    "    for _, t in dict(socio_numero_dict).items():\n",
    "        todos_telefones.add(t)\n",
    "\n",
    "    if telefones_coletados:\n",
    "        return dict(socio_numero_dict), set([t for t in todos_telefones if t not in telefones_coletados])\n",
    "    \n",
    "    return dict(socio_numero_dict), todos_telefones"
   ]
  },
  {
   "cell_type": "code",
   "execution_count": 148,
   "metadata": {},
   "outputs": [
    {
     "name": "stdout",
     "output_type": "stream",
     "text": [
      "{'RONALDO BALEEIRO VIOTTO-***477459**': '44 98612552', 'STEFANIE CAMILA DE OLIVEIRA MALTA-***612599**': '44 98612552', 'ABEL RODRIGUES-***122309**': '43 98311055', 'ISABELA LAHUTT ANTONIO-***399809**': '44 99380082', 'ALINE DE ARRUDA GARCIA DOS SANTOS-***602509**': '44 30282991', 'VERA LUCIA DE ARRUDA GARCIA-***726549**': '44 30282991', 'VAGNER JOAQUIM FERREIRA DA SILVA-***437310**': '44 33464405', 'GENIVALDO RIBEIRO DA SILVA-***164351**': '18 32232860', 'FABRICIA BRASILINO DE SOUZA RODRIGUES-***576729**': '43 98311055', 'ALEXANDRE LEONARDO DE LIMA COUTINHO-***685609**': '11 55064059', 'VILSON GUERRA DOS SANTOS-***156589**': '44 30253626', 'RENATO BOSCARDIM SOARES-***734389**': '44 99335807', 'ALESSANDRO DE OLIVEIRA ROMAN-***056199**': '44 91335565', 'JOICE LOANA OLIANO DOS SANTOS-***201729**': '44 88444039', 'VANESSA VERAS VIEIRA-***195078**': '18 32033950', 'RAISSA BENTO SANTOS-***071344**': '44 33057778', 'MARCOS VINICIUS NERONI FERNANDES-***528291**': '18 32033950', 'LAIS RUSSO PAINA FREITAS-***779199**': '44 30319488', 'LUCIANA GROSSMANN-***977139**': '44 30267003', 'TIAGO FOGACA CRESPO-***858739**': '44 30267003', 'SIDERLEY FREITAS DE CASTRO-***142339**': '44 30319488', 'MATHEUS ADAMUCCIO GOMES-***410699**': '44 88423949', 'CELIA REGINA MARINHO COSMO DE SOUSA-***087358**': '44 30348595', 'SIMONE DA LUZ BARBOSA-***009371**': '44 33057334', 'EDNALDO CARLOS ROZAO-***515849**': '44 99944577', 'CALEBE MARIANO DUARTE-***082148**': '44 33541301', 'MARIA HELENA SANTOS-***952959**': '44 32278602', 'ALEXANDRE DE LIMA-***791439**': '44 32278602', 'LEANDRO BRAIDO MACRI-***795239**': '44 33547787', 'VINICIUS SOARES VELOSO-***604259**': '44 33547787', 'VINICIUS MENARIM HUMAMOTO-***649229**': '43 33242489', 'ROSIMEIRE COLOGNESE DOS SANTOS ROZAO-***885459**': '44 99944577', 'HELIO MARQUES DA SILVA-***309019**': '44 97436323', 'NILZA VALERIA DE ALMEIDA-***217638**': '44 30460200', 'DAIANE ALVES ESTEVAO VIEIRA-***561269**': '44 91857306', 'JAQUELINE RUUS DE SOUZA-***741079**': '44 97436323', 'JAQUELINE MARIA GENERAL MARQUES KLOSOSKI-***523809**': '44 30100440', 'GLAUBER SIQUEIRA MAGALHAES-***360979**': '44 99871798', 'MARCOS ANTONIO DA SILVA-***896119**': '44 30340871', 'GUILHERME DA SILVA BRISCE-***451599**': '44 99257008', 'JOSI ADRIANA DE SOUZA-***576299**': '44 32672632', 'RONUALDO ALVES-***287999**': '44 33052768', 'MATEUS RIBEIRO ALVES-***222109**': '44 33052768', 'MATEUS UBIALI CINTRA-***460429**': '44 30267003', 'BARBARA GANEM FRAGUAS-***857349**': '44 88295015', 'JOAO ROBERTO FRAGUAS-***300119**': '44 88295015', 'JEFFERSON CARLOS DE OLIVEIRA-***131939**': '44 30257062', 'ABYLA FERNANDA CREMONEIS TOMAZ-***658419**': '44 91230609', 'FELIPE MUNIZ DA SILVA-***451299**': '44 30267003', 'YASMIN FERRACINI FOUTO-***127279**': '44 91613019', 'ALINE SILVA GOMES VIEIRA DOS SANTOS-***173169**': '44 30310693', 'FABIO VELUCINO DE MATTOS SCOPEL-***022649**': '44 30310263', 'JULIO CESAR MARTINS RODRIGUES-***120869**': '44 99237187', 'JUSSARA FORQUIM DO NASCIMENTO-***544489**': '44 99560840', 'ELAINE APARECIDA DE MATTOS-***989689**': '44 30310263', 'VALERIA SICHIERI GUILHEN-***069539**': '44 98565985', 'JOAO PEDRO CARREGOSA ANDRADE COSTA-***599239**': '44 99585439', 'JULIANO SICHIERI GUILHEN-***749479**': '44 98565985', 'JACKSON RODRIGO DE MATTOS-***625869**': '44 88211475', 'ANDREIA APARECIDA DE SOUZA CUSTODIO SANTANA DA SILVA-***459039**': '44 30463033', 'ALEX DANIEL SOARES SANT ANA-***527479**': '44 30285353', 'JEAN RICARDO SOARES SANT ANA-***191299**': '44 30285353', 'EVELIN CASTALDELLI SILVA-***393989**': '44 91731821', 'REGINALDO SOCORRO SANTOS-***161629**': '44 99997705', 'LARISSA MAYARA MISSAO-***247398**': '44 99605986', 'SILVIA MARA ALVES-***486821**': '44 32621018', 'TAMARA DE NARDO VANZELA-***778989**': '44 32241239', 'FABIANA SOUZA CONTE-***763989**': '44 11111111', 'JOYCE RODRIGUES PEREIRA DOS REIS-***061368**': '11 34860316', 'FELIPE VIVEROS-***951249**': '44 99501978'}\n",
      "53 {'44 88423949', '44 99335807', '44 30253626', '44 99997705', '44 88295015', '44 91230609', '44 32278602', '44 99871798', '44 33052768', '44 98612552', '44 99560840', '44 33541301', '44 30460200', '44 91731821', '44 30310263', '44 30100440', '44 30285353', '44 88211475', '44 99380082', '44 30267003', '44 99944577', '43 33242489', '18 32232860', '44 30340871', '44 30463033', '44 30310693', '44 99237187', '44 32621018', '44 99257008', '44 11111111', '44 33057334', '44 32241239', '44 91613019', '18 32033950', '44 30257062', '44 32672632', '44 30319488', '44 99585439', '44 33057778', '11 55064059', '43 98311055', '44 33547787', '44 91335565', '44 30348595', '44 99501978', '44 33464405', '44 99605986', '11 34860316', '44 98565985', '44 97436323', '44 88444039', '44 30282991', '44 91857306'}\n"
     ]
    }
   ],
   "source": [
    "nomes, cnpjs_cpfs = socios[\"Nome Sócio\"], socios[\"CNPJ/CPF Sócio\"]\n",
    "\n",
    "socio_numero_dict, todos_telefones = get_data(nomes, cnpjs_cpfs)\n",
    "print(socio_numero_dict)\n",
    "print(len(todos_telefones), todos_telefones)"
   ]
  },
  {
   "cell_type": "code",
   "execution_count": null,
   "metadata": {},
   "outputs": [],
   "source": [
    "def get_socios_telefones(nomes: list[str],\n",
    "                         cnpjs_cpfs: list[str],\n",
    "                         socio_numero_dict: dict[str],\n",
    "                         todos_telefones: set,\n",
    "                         socios_telefones: list[tuple] = []) -> tuple[list[tuple], list[tuple]]:\n",
    "    socios_telefones_replace = []\n",
    "    for nome, cnpj_cpf in zip(nomes, cnpjs_cpfs):\n",
    "        ts = socio_numero_dict[f\"{nome}-{cnpj_cpf}\"]\n",
    "        if ts in todos_telefones:\n",
    "            socios_telefones.append((nome, cnpj_cpf, ts))\n",
    "            todos_telefones.remove(ts)\n",
    "        else:\n",
    "            socios_telefones_replace.append((nome, cnpj_cpf))\n",
    "    return socios_telefones, socios_telefones_replace"
   ]
  },
  {
   "cell_type": "code",
   "execution_count": 128,
   "metadata": {},
   "outputs": [],
   "source": [
    "socios_telefones, socios_telefones_replace\n",
    "\n",
    "socios_telefones = []\n",
    "socios_telefones_replace = []\n",
    "for nome, cnpj_cpf in zip(nomes, cnpjs_cpfs):\n",
    "    ts = socio_numero_dict[f\"{nome}-{cnpj_cpf}\"]\n",
    "    if ts in todos_telefones:\n",
    "        socios_telefones.append((nome, cnpj_cpf, ts))\n",
    "        todos_telefones.remove(ts)\n",
    "    else:\n",
    "        socios_telefones_replace.append((nome, cnpj_cpf))"
   ]
  },
  {
   "cell_type": "code",
   "execution_count": null,
   "metadata": {},
   "outputs": [],
   "source": []
  },
  {
   "cell_type": "code",
   "execution_count": 132,
   "metadata": {},
   "outputs": [
    {
     "data": {
      "text/plain": [
       "([('STEFANIE CAMILA DE OLIVEIRA MALTA', '***612599**'),\n",
       "  ('VERA LUCIA DE ARRUDA GARCIA', '***726549**'),\n",
       "  ('FABRICIA BRASILINO DE SOUZA RODRIGUES', '***576729**'),\n",
       "  ('MARCOS VINICIUS NERONI FERNANDES', '***528291**'),\n",
       "  ('TIAGO FOGACA CRESPO', '***858739**'),\n",
       "  ('SIDERLEY FREITAS DE CASTRO', '***142339**'),\n",
       "  ('SIMONE DA LUZ BARBOSA', '***009371**'),\n",
       "  ('ROSIMEIRE COLOGNESE DOS SANTOS ROZAO', '***885459**'),\n",
       "  ('JAQUELINE RUUS DE SOUZA', '***741079**'),\n",
       "  ('JAQUELINE MARIA GENERAL MARQUES KLOSOSKI', '***523809**'),\n",
       "  ('MATEUS RIBEIRO ALVES', '***222109**'),\n",
       "  ('MATEUS UBIALI CINTRA', '***460429**'),\n",
       "  ('JOAO ROBERTO FRAGUAS', '***300119**'),\n",
       "  ('FELIPE MUNIZ DA SILVA', '***451299**'),\n",
       "  ('ELAINE APARECIDA DE MATTOS', '***989689**'),\n",
       "  ('JULIANO SICHIERI GUILHEN', '***749479**'),\n",
       "  ('JEAN RICARDO SOARES SANT ANA', '***191299**')],\n",
       " 17)"
      ]
     },
     "execution_count": 132,
     "metadata": {},
     "output_type": "execute_result"
    }
   ],
   "source": [
    "socios_telefones_replace, len(socios_telefones_replace)"
   ]
  },
  {
   "cell_type": "code",
   "execution_count": null,
   "metadata": {},
   "outputs": [],
   "source": []
  },
  {
   "cell_type": "code",
   "execution_count": 131,
   "metadata": {},
   "outputs": [
    {
     "name": "stdout",
     "output_type": "stream",
     "text": [
      "{'STEFANIE CAMILA DE OLIVEIRA MALTA-***612599**': '44 98612552', 'VERA LUCIA DE ARRUDA GARCIA-***726549**': '44 30282991', 'FABRICIA BRASILINO DE SOUZA RODRIGUES-***576729**': '14 32321473', 'MARCOS VINICIUS NERONI FERNANDES-***528291**': '18 32232860', 'TIAGO FOGACA CRESPO-***858739**': '44 30267003', 'SIDERLEY FREITAS DE CASTRO-***142339**': '44 30319488', 'SIMONE DA LUZ BARBOSA-***009371**': '44 33057334', 'ROSIMEIRE COLOGNESE DOS SANTOS ROZAO-***885459**': '44 99944577', 'JAQUELINE RUUS DE SOUZA-***741079**': '44 97436323', 'JAQUELINE MARIA GENERAL MARQUES KLOSOSKI-***523809**': '44 97436323', 'MATEUS RIBEIRO ALVES-***222109**': '44 33052768', 'MATEUS UBIALI CINTRA-***460429**': '44 30267003', 'JOAO ROBERTO FRAGUAS-***300119**': '44 88295015', 'FELIPE MUNIZ DA SILVA-***451299**': '44 30267003', 'ELAINE APARECIDA DE MATTOS-***989689**': '44 30310263', 'JULIANO SICHIERI GUILHEN-***749479**': '44 98565985', 'JEAN RICARDO SOARES SANT ANA-***191299**': '44 30285353'}\n",
      "2 ['14 32321473', '18 32232860']\n"
     ]
    }
   ],
   "source": [
    "socio_numero_dict = defaultdict(str)\n",
    "nomes, cnpjs_cpfs = [i[0] for i in socios_telefones_replace], [i[1] for i in socios_telefones_replace]\n",
    "for nome, cnpj_cpf in zip(nomes, cnpjs_cpfs):\n",
    "    with engine.begin() as conn:\n",
    "        qry = f\"\"\"SELECT\n",
    "        telefone\n",
    "    FROM public.socio_telefone\n",
    "    WHERE nome_socio = '{nome}' AND cnpj_cpf_socio = '{cnpj_cpf}' AND telefone <> ' ';\"\"\"\n",
    "\n",
    "        socio_numero_dict[f\"{nome}-{cnpj_cpf}\"] = pd.read_sql(qry, conn).dropna().drop_duplicates()[\"telefone\"].values[0]\n",
    "\n",
    "todos_telefones = set()\n",
    "for _, t in dict(socio_numero_dict).items():\n",
    "    todos_telefones.add(t)\n",
    "\n",
    "reduced_todos_telefones = [t for t in todos_telefones if t not in [i[-1] for i in socios_telefones]]\n",
    "\n",
    "socio_numero_dict = dict(socio_numero_dict)\n",
    "print(socio_numero_dict)\n",
    "print(len(reduced_todos_telefones), reduced_todos_telefones)"
   ]
  },
  {
   "cell_type": "code",
   "execution_count": 133,
   "metadata": {},
   "outputs": [],
   "source": [
    "socios_telefones_replace = []\n",
    "for nome, cnpj_cpf in zip(nomes, cnpjs_cpfs):\n",
    "    ts = socio_numero_dict[f\"{nome}-{cnpj_cpf}\"]\n",
    "    if ts in reduced_todos_telefones:\n",
    "        socios_telefones.append((nome, cnpj_cpf, ts))\n",
    "        reduced_todos_telefones.remove(ts)\n",
    "    else:\n",
    "        socios_telefones_replace.append((nome, cnpj_cpf))"
   ]
  },
  {
   "cell_type": "code",
   "execution_count": 134,
   "metadata": {},
   "outputs": [
    {
     "data": {
      "text/plain": [
       "([('STEFANIE CAMILA DE OLIVEIRA MALTA', '***612599**'),\n",
       "  ('VERA LUCIA DE ARRUDA GARCIA', '***726549**'),\n",
       "  ('TIAGO FOGACA CRESPO', '***858739**'),\n",
       "  ('SIDERLEY FREITAS DE CASTRO', '***142339**'),\n",
       "  ('SIMONE DA LUZ BARBOSA', '***009371**'),\n",
       "  ('ROSIMEIRE COLOGNESE DOS SANTOS ROZAO', '***885459**'),\n",
       "  ('JAQUELINE RUUS DE SOUZA', '***741079**'),\n",
       "  ('JAQUELINE MARIA GENERAL MARQUES KLOSOSKI', '***523809**'),\n",
       "  ('MATEUS RIBEIRO ALVES', '***222109**'),\n",
       "  ('MATEUS UBIALI CINTRA', '***460429**'),\n",
       "  ('JOAO ROBERTO FRAGUAS', '***300119**'),\n",
       "  ('FELIPE MUNIZ DA SILVA', '***451299**'),\n",
       "  ('ELAINE APARECIDA DE MATTOS', '***989689**'),\n",
       "  ('JULIANO SICHIERI GUILHEN', '***749479**'),\n",
       "  ('JEAN RICARDO SOARES SANT ANA', '***191299**')],\n",
       " 15)"
      ]
     },
     "execution_count": 134,
     "metadata": {},
     "output_type": "execute_result"
    }
   ],
   "source": [
    "socios_telefones_replace, len(socios_telefones_replace)"
   ]
  },
  {
   "cell_type": "markdown",
   "metadata": {},
   "source": [
    "```\n",
    "([('STEFANIE CAMILA DE OLIVEIRA MALTA', '***612599**'),\n",
    "  ('VERA LUCIA DE ARRUDA GARCIA', '***726549**'),\n",
    "  ('TIAGO FOGACA CRESPO', '***858739**'),\n",
    "  ('SIDERLEY FREITAS DE CASTRO', '***142339**'),\n",
    "  ('SIMONE DA LUZ BARBOSA', '***009371**'),\n",
    "  ('ROSIMEIRE COLOGNESE DOS SANTOS ROZAO', '***885459**'),\n",
    "  ('JAQUELINE RUUS DE SOUZA', '***741079**'),\n",
    "  ('JAQUELINE MARIA GENERAL MARQUES KLOSOSKI', '***523809**'),\n",
    "  ('MATEUS RIBEIRO ALVES', '***222109**'),\n",
    "  ('MATEUS UBIALI CINTRA', '***460429**'),\n",
    "  ('JOAO ROBERTO FRAGUAS', '***300119**'),\n",
    "  ('FELIPE MUNIZ DA SILVA', '***451299**'),\n",
    "  ('ELAINE APARECIDA DE MATTOS', '***989689**'),\n",
    "  ('JULIANO SICHIERI GUILHEN', '***749479**'),\n",
    "  ('JEAN RICARDO SOARES SANT ANA', '***191299**')],\n",
    " 15)\n",
    "```"
   ]
  },
  {
   "cell_type": "code",
   "execution_count": null,
   "metadata": {},
   "outputs": [],
   "source": []
  }
 ],
 "metadata": {
  "kernelspec": {
   "display_name": "Python 3",
   "language": "python",
   "name": "python3"
  },
  "language_info": {
   "codemirror_mode": {
    "name": "ipython",
    "version": 3
   },
   "file_extension": ".py",
   "mimetype": "text/x-python",
   "name": "python",
   "nbconvert_exporter": "python",
   "pygments_lexer": "ipython3",
   "version": "3.10.12"
  },
  "orig_nbformat": 4
 },
 "nbformat": 4,
 "nbformat_minor": 2
}
