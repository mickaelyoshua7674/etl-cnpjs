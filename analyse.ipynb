{
 "cells": [
  {
   "cell_type": "code",
   "execution_count": 1,
   "metadata": {},
   "outputs": [],
   "source": [
    "import os"
   ]
  },
  {
   "cell_type": "code",
   "execution_count": 3,
   "metadata": {},
   "outputs": [
    {
     "data": {
      "text/plain": [
       "['Cnaes.csv',\n",
       " 'Empresas0.csv',\n",
       " 'Empresas1.csv',\n",
       " 'Empresas2.csv',\n",
       " 'Empresas3.csv',\n",
       " 'Empresas4.csv',\n",
       " 'Empresas5.csv',\n",
       " 'Empresas6.csv',\n",
       " 'Empresas7.csv',\n",
       " 'Empresas8.csv',\n",
       " 'Empresas9.csv',\n",
       " 'Estabelecimentos0.csv',\n",
       " 'Estabelecimentos1.csv',\n",
       " 'Estabelecimentos2.csv',\n",
       " 'Estabelecimentos3.csv',\n",
       " 'Estabelecimentos4.csv',\n",
       " 'Estabelecimentos5.csv',\n",
       " 'Estabelecimentos6.csv',\n",
       " 'Estabelecimentos7.csv',\n",
       " 'Estabelecimentos8.csv',\n",
       " 'Estabelecimentos9.csv',\n",
       " 'Motivos.csv',\n",
       " 'Municipios.csv',\n",
       " 'Naturezas.csv',\n",
       " 'Paises.csv',\n",
       " 'Qualificacoes.csv',\n",
       " 'Simples.csv',\n",
       " 'Socios0.csv',\n",
       " 'Socios1.csv',\n",
       " 'Socios2.csv',\n",
       " 'Socios3.csv',\n",
       " 'Socios4.csv',\n",
       " 'Socios5.csv',\n",
       " 'Socios6.csv',\n",
       " 'Socios7.csv',\n",
       " 'Socios8.csv',\n",
       " 'Socios9.csv']"
      ]
     },
     "execution_count": 3,
     "metadata": {},
     "output_type": "execute_result"
    }
   ],
   "source": [
    "sorted(os.listdir(\"rawfiles\"))"
   ]
  },
  {
   "cell_type": "code",
   "execution_count": null,
   "metadata": {},
   "outputs": [],
   "source": []
  }
 ],
 "metadata": {
  "kernelspec": {
   "display_name": "Python 3",
   "language": "python",
   "name": "python3"
  },
  "language_info": {
   "codemirror_mode": {
    "name": "ipython",
    "version": 3
   },
   "file_extension": ".py",
   "mimetype": "text/x-python",
   "name": "python",
   "nbconvert_exporter": "python",
   "pygments_lexer": "ipython3",
   "version": "3.10.12"
  },
  "orig_nbformat": 4
 },
 "nbformat": 4,
 "nbformat_minor": 2
}
