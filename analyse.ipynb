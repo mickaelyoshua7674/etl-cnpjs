{
 "cells": [
  {
   "cell_type": "code",
   "execution_count": 23,
   "metadata": {},
   "outputs": [],
   "source": [
    "from helper_load import get_engine_database\n",
    "import pandas as pd\n",
    "\n",
    "with open(\"./secrets.txt\", \"r\") as f:\n",
    "    driver, username, password, host, port, database = f.read().split(\",\")\n",
    "engine = get_engine_database(driver, username, password, host, port, database)"
   ]
  },
  {
   "cell_type": "code",
   "execution_count": 24,
   "metadata": {},
   "outputs": [
    {
     "data": {
      "text/html": [
       "<div>\n",
       "<style scoped>\n",
       "    .dataframe tbody tr th:only-of-type {\n",
       "        vertical-align: middle;\n",
       "    }\n",
       "\n",
       "    .dataframe tbody tr th {\n",
       "        vertical-align: top;\n",
       "    }\n",
       "\n",
       "    .dataframe thead th {\n",
       "        text-align: right;\n",
       "    }\n",
       "</style>\n",
       "<table border=\"1\" class=\"dataframe\">\n",
       "  <thead>\n",
       "    <tr style=\"text-align: right;\">\n",
       "      <th></th>\n",
       "      <th>CNPJ Básico</th>\n",
       "      <th>Identificador Sócio</th>\n",
       "      <th>Nome Sócio</th>\n",
       "      <th>CNPJ/CPF Sócio</th>\n",
       "      <th>Qualificação Sócio</th>\n",
       "      <th>Data Entrada Sociedade</th>\n",
       "      <th>País</th>\n",
       "      <th>CPF Representante Legal</th>\n",
       "      <th>Nome Representante Legal</th>\n",
       "      <th>Telefone</th>\n",
       "    </tr>\n",
       "  </thead>\n",
       "  <tbody>\n",
       "    <tr>\n",
       "      <th>0</th>\n",
       "      <td>24699192</td>\n",
       "      <td>PESSOA FISICA</td>\n",
       "      <td>NATHANE DE SA DOS SANTOS</td>\n",
       "      <td>***167958**</td>\n",
       "      <td>Sócio-Administrador</td>\n",
       "      <td>12/02/2023</td>\n",
       "      <td>NAO DECLARADOS</td>\n",
       "      <td>***000000**</td>\n",
       "      <td>NaN</td>\n",
       "      <td>44 99649820</td>\n",
       "    </tr>\n",
       "    <tr>\n",
       "      <th>1</th>\n",
       "      <td>31611871</td>\n",
       "      <td>PESSOA FISICA</td>\n",
       "      <td>GUILHERME DA SILVA BRISCE</td>\n",
       "      <td>***451599**</td>\n",
       "      <td>Sócio-Administrador</td>\n",
       "      <td>07/05/2021</td>\n",
       "      <td>NAO DECLARADOS</td>\n",
       "      <td>***000000**</td>\n",
       "      <td>NaN</td>\n",
       "      <td>44 99257008</td>\n",
       "    </tr>\n",
       "    <tr>\n",
       "      <th>2</th>\n",
       "      <td>10567239</td>\n",
       "      <td>PESSOA FISICA</td>\n",
       "      <td>MARILEIDE DE JESUS PAVAN</td>\n",
       "      <td>***226608**</td>\n",
       "      <td>Sócio-Administrador</td>\n",
       "      <td>07/11/2008</td>\n",
       "      <td>NAO DECLARADOS</td>\n",
       "      <td>***000000**</td>\n",
       "      <td>NaN</td>\n",
       "      <td>41 98387956</td>\n",
       "    </tr>\n",
       "    <tr>\n",
       "      <th>3</th>\n",
       "      <td>10567239</td>\n",
       "      <td>PESSOA FISICA</td>\n",
       "      <td>TAYNARA PAVAN DE OLIVEIRA POSSO</td>\n",
       "      <td>***292809**</td>\n",
       "      <td>Sócio</td>\n",
       "      <td>28/03/2019</td>\n",
       "      <td>NAO DECLARADOS</td>\n",
       "      <td>***000000**</td>\n",
       "      <td>NaN</td>\n",
       "      <td>41 98387956</td>\n",
       "    </tr>\n",
       "    <tr>\n",
       "      <th>4</th>\n",
       "      <td>13428716</td>\n",
       "      <td>PESSOA FISICA</td>\n",
       "      <td>LAIS RUSSO PAINA FREITAS</td>\n",
       "      <td>***779199**</td>\n",
       "      <td>Sócio-Administrador</td>\n",
       "      <td>24/03/2011</td>\n",
       "      <td>NAO DECLARADOS</td>\n",
       "      <td>***000000**</td>\n",
       "      <td>NaN</td>\n",
       "      <td>44 30319488</td>\n",
       "    </tr>\n",
       "  </tbody>\n",
       "</table>\n",
       "</div>"
      ],
      "text/plain": [
       "   CNPJ Básico Identificador Sócio                       Nome Sócio  \\\n",
       "0     24699192       PESSOA FISICA         NATHANE DE SA DOS SANTOS   \n",
       "1     31611871       PESSOA FISICA        GUILHERME DA SILVA BRISCE   \n",
       "2     10567239       PESSOA FISICA         MARILEIDE DE JESUS PAVAN   \n",
       "3     10567239       PESSOA FISICA  TAYNARA PAVAN DE OLIVEIRA POSSO   \n",
       "4     13428716       PESSOA FISICA         LAIS RUSSO PAINA FREITAS   \n",
       "\n",
       "  CNPJ/CPF Sócio   Qualificação Sócio Data Entrada Sociedade            País  \\\n",
       "0    ***167958**  Sócio-Administrador             12/02/2023  NAO DECLARADOS   \n",
       "1    ***451599**  Sócio-Administrador             07/05/2021  NAO DECLARADOS   \n",
       "2    ***226608**  Sócio-Administrador             07/11/2008  NAO DECLARADOS   \n",
       "3    ***292809**                Sócio             28/03/2019  NAO DECLARADOS   \n",
       "4    ***779199**  Sócio-Administrador             24/03/2011  NAO DECLARADOS   \n",
       "\n",
       "  CPF Representante Legal Nome Representante Legal     Telefone  \n",
       "0             ***000000**                      NaN  44 99649820  \n",
       "1             ***000000**                      NaN  44 99257008  \n",
       "2             ***000000**                      NaN  41 98387956  \n",
       "3             ***000000**                      NaN  41 98387956  \n",
       "4             ***000000**                      NaN  44 30319488  "
      ]
     },
     "execution_count": 24,
     "metadata": {},
     "output_type": "execute_result"
    }
   ],
   "source": [
    "socios = pd.read_excel(\"Empresas-Sócios_CNAE-9602501_Cidade-Maringa_test_1.xlsx\", sheet_name=\"Sócios\")\n",
    "socios.head()"
   ]
  },
  {
   "cell_type": "code",
   "execution_count": 25,
   "metadata": {},
   "outputs": [
    {
     "data": {
      "text/plain": [
       "(0            NATHANE DE SA DOS SANTOS\n",
       " 1           GUILHERME DA SILVA BRISCE\n",
       " 2            MARILEIDE DE JESUS PAVAN\n",
       " 3     TAYNARA PAVAN DE OLIVEIRA POSSO\n",
       " 4            LAIS RUSSO PAINA FREITAS\n",
       "                    ...               \n",
       " 74             FABIANA JUNKLAUS FERRO\n",
       " 75           EVELIN CASTALDELLI SILVA\n",
       " 76                 ANA LUCIA DA SILVA\n",
       " 77    FABIO VELUCINO DE MATTOS SCOPEL\n",
       " 78         ELAINE APARECIDA DE MATTOS\n",
       " Name: Nome Sócio, Length: 79, dtype: object,\n",
       " 0     ***167958**\n",
       " 1     ***451599**\n",
       " 2     ***226608**\n",
       " 3     ***292809**\n",
       " 4     ***779199**\n",
       "          ...     \n",
       " 74    ***134979**\n",
       " 75    ***393989**\n",
       " 76    ***438549**\n",
       " 77    ***022649**\n",
       " 78    ***989689**\n",
       " Name: CNPJ/CPF Sócio, Length: 79, dtype: object,\n",
       " 0     44 99649820\n",
       " 1     44 99257008\n",
       " 2     41 98387956\n",
       " 3     41 98387956\n",
       " 4     44 30319488\n",
       "          ...     \n",
       " 74    44 91725758\n",
       " 75    44 91731821\n",
       " 76    44 32232745\n",
       " 77    44 30310263\n",
       " 78    44 30310263\n",
       " Name: Telefone, Length: 79, dtype: object)"
      ]
     },
     "execution_count": 25,
     "metadata": {},
     "output_type": "execute_result"
    }
   ],
   "source": [
    "nome, cnpj_cpf, telefone = socios[\"Nome Sócio\"], socios[\"CNPJ/CPF Sócio\"], socios[\"Telefone\"]\n",
    "nome, cnpj_cpf, telefone"
   ]
  },
  {
   "cell_type": "code",
   "execution_count": 26,
   "metadata": {},
   "outputs": [],
   "source": [
    "check_t = []\n",
    "repeated = []\n",
    "for n, c, t in zip(nome, cnpj_cpf, telefone):\n",
    "    if t in check_t:\n",
    "        repeated.append((n, c, t))\n",
    "    else:\n",
    "        check_t.append(t)"
   ]
  },
  {
   "cell_type": "code",
   "execution_count": 32,
   "metadata": {},
   "outputs": [
    {
     "data": {
      "text/html": [
       "<div>\n",
       "<style scoped>\n",
       "    .dataframe tbody tr th:only-of-type {\n",
       "        vertical-align: middle;\n",
       "    }\n",
       "\n",
       "    .dataframe tbody tr th {\n",
       "        vertical-align: top;\n",
       "    }\n",
       "\n",
       "    .dataframe thead th {\n",
       "        text-align: right;\n",
       "    }\n",
       "</style>\n",
       "<table border=\"1\" class=\"dataframe\">\n",
       "  <thead>\n",
       "    <tr style=\"text-align: right;\">\n",
       "      <th></th>\n",
       "      <th>telefone</th>\n",
       "    </tr>\n",
       "  </thead>\n",
       "  <tbody>\n",
       "    <tr>\n",
       "      <th>0</th>\n",
       "      <td>44 30100440</td>\n",
       "    </tr>\n",
       "  </tbody>\n",
       "</table>\n",
       "</div>"
      ],
      "text/plain": [
       "      telefone\n",
       "0  44 30100440"
      ]
     },
     "execution_count": 32,
     "metadata": {},
     "output_type": "execute_result"
    }
   ],
   "source": [
    "n, c, t = repeated[3]\n",
    "with engine.begin() as conn:\n",
    "    qry = f\"\"\"SELECT\n",
    "    telefone\n",
    "FROM public.socio_telefone\n",
    "WHERE nome_socio = '{n}' AND cnpj_cpf_socio = '{c}' AND telefone NOT IN ('{t}', ' ');\"\"\"\n",
    "\n",
    "    r = pd.read_sql(qry, conn).dropna()\n",
    "r"
   ]
  },
  {
   "cell_type": "code",
   "execution_count": null,
   "metadata": {},
   "outputs": [],
   "source": []
  }
 ],
 "metadata": {
  "kernelspec": {
   "display_name": "Python 3",
   "language": "python",
   "name": "python3"
  },
  "language_info": {
   "codemirror_mode": {
    "name": "ipython",
    "version": 3
   },
   "file_extension": ".py",
   "mimetype": "text/x-python",
   "name": "python",
   "nbconvert_exporter": "python",
   "pygments_lexer": "ipython3",
   "version": "3.10.12"
  },
  "orig_nbformat": 4
 },
 "nbformat": 4,
 "nbformat_minor": 2
}
