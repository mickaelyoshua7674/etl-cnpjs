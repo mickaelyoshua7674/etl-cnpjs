{
 "cells": [
  {
   "cell_type": "code",
   "execution_count": null,
   "metadata": {},
   "outputs": [],
   "source": [
    "from helper_load import get_engine_database\n",
    "from collections import defaultdict\n",
    "from random import shuffle\n",
    "import pandas as pd\n",
    "import re\n",
    "\n",
    "with open(\"./secrets.txt\", \"r\") as f:\n",
    "    driver, username, password, host, port, database = f.read().split(\",\")\n",
    "engine = get_engine_database(driver, username, password, host, port, database)"
   ]
  },
  {
   "cell_type": "code",
   "execution_count": null,
   "metadata": {},
   "outputs": [],
   "source": [
    "socios = pd.read_excel(\"Empresas-Sócios_CNAE-9602501_Cidade-Maringa_test_1.xlsx\", sheet_name=\"Sócios\")\n",
    "socios.head()"
   ]
  },
  {
   "cell_type": "code",
   "execution_count": null,
   "metadata": {},
   "outputs": [],
   "source": [
    "def get_data(nomes: list[str], cnpjs_cpfs: list[str], telefones_coletados: list[str]=[]) -> tuple[dict, set]:\n",
    "    socio_numero_dict = defaultdict(str)\n",
    "    for nome, cnpj_cpf in zip(nomes, cnpjs_cpfs):\n",
    "        with engine.begin() as conn:\n",
    "            qry = f\"\"\"SELECT telefone FROM public.socio_telefone\n",
    "            WHERE nome_socio = '{nome}' AND cnpj_cpf_socio = '{cnpj_cpf}' AND telefone <> ' ';\"\"\"\n",
    "\n",
    "            socio_numero_dict[f\"{nome}-{cnpj_cpf}\"] = pd.read_sql(qry, conn).dropna().drop_duplicates()[\"telefone\"].values[0]\n",
    "\n",
    "    todos_telefones = set()\n",
    "    for _, t in dict(socio_numero_dict).items():\n",
    "        todos_telefones.add(t)\n",
    "\n",
    "    if telefones_coletados:\n",
    "        return dict(socio_numero_dict), set([t for t in todos_telefones if t not in telefones_coletados])\n",
    "    \n",
    "    return dict(socio_numero_dict), todos_telefones\n",
    "\n",
    "def get_socios_telefones(nomes: list[str],\n",
    "                         cnpjs_cpfs: list[str],\n",
    "                         socio_numero_dict: dict[str],\n",
    "                         todos_telefones: set,\n",
    "                         socios_telefones: list[tuple] = []) -> tuple[list[tuple], list[tuple]]:\n",
    "    socios_telefones_replace = []\n",
    "    for nome, cnpj_cpf in zip(nomes, cnpjs_cpfs):\n",
    "        ts = socio_numero_dict[f\"{nome}-{cnpj_cpf}\"]\n",
    "        if ts in todos_telefones:\n",
    "            socios_telefones.append((nome, cnpj_cpf, ts))\n",
    "            todos_telefones.remove(ts)\n",
    "        else:\n",
    "            socios_telefones_replace.append((nome, cnpj_cpf))\n",
    "    return socios_telefones, socios_telefones_replace"
   ]
  },
  {
   "cell_type": "code",
   "execution_count": null,
   "metadata": {},
   "outputs": [],
   "source": [
    "nomes, cnpjs_cpfs = socios[\"Nome Sócio\"], socios[\"CNPJ/CPF Sócio\"]\n",
    "\n",
    "socio_numero_dict, todos_telefones = get_data(nomes, cnpjs_cpfs)\n",
    "socios_telefones, socios_telefones_replace = get_socios_telefones(nomes, cnpjs_cpfs, socio_numero_dict, todos_telefones)"
   ]
  },
  {
   "cell_type": "code",
   "execution_count": null,
   "metadata": {},
   "outputs": [],
   "source": [
    "count = 0\n",
    "while True:\n",
    "    nomes, cnpjs_cpfs = [i[0] for i in socios_telefones_replace], [i[1] for i in socios_telefones_replace]\n",
    "\n",
    "    socio_numero_dict, todos_telefones = get_data(nomes, cnpjs_cpfs, [i[-1] for i in socios_telefones])\n",
    "    novo_socios_telefones, socios_telefones_replace = get_socios_telefones(nomes, cnpjs_cpfs, socio_numero_dict, todos_telefones, socios_telefones)\n",
    "\n",
    "    if len(socios_telefones) == len(novo_socios_telefones):\n",
    "        socios_telefones = novo_socios_telefones\n",
    "        print(count)\n",
    "        break\n",
    "    count += 1\n",
    "\n",
    "    socios_telefones = novo_socios_telefones"
   ]
  },
  {
   "cell_type": "code",
   "execution_count": null,
   "metadata": {},
   "outputs": [],
   "source": [
    "socios_telefones_replace"
   ]
  },
  {
   "cell_type": "code",
   "execution_count": null,
   "metadata": {},
   "outputs": [],
   "source": [
    "with engine.begin() as conn:\n",
    "    qry = f\"\"\"SELECT DISTINCT\n",
    "                CASE\n",
    "                    WHEN telefone1 IS NOT NULL THEN CONCAT(ddd1,' ',telefone1)\n",
    "                    ELSE CONCAT(ddd2,' ',telefone2)\n",
    "                END AS telefone\n",
    "            FROM public.estabelecimentos\n",
    "            WHERE\n",
    "                ((ddd1 IS NOT NULL AND telefone1 IS NOT NULL) OR\n",
    "                (ddd2 IS NOT NULL AND telefone2 IS NOT NULL)) AND\n",
    "                situacao_cadastral <> 2;\"\"\"\n",
    "    rand_telefones_chunk = pd.read_sql(qry, conn, chunksize=100_000)\n",
    "\n",
    "r = []\n",
    "for chunk in rand_telefones_chunk:\n",
    "    for value in chunk[\"telefone\"].unique():\n",
    "        v = value.strip()\n",
    "        if re.match(r\"[0-9]{2,} [0-9]+\", v):\n",
    "            r.append(v)\n",
    "    break\n",
    "\n",
    "shuffle(r)\n",
    "rand_telefones = r[:len(socios_telefones_replace)]\n",
    "\n",
    "for nc, t in zip(socios_telefones_replace, rand_telefones):\n",
    "    socios_telefones.append((nc[0], nc[1], t))"
   ]
  },
  {
   "cell_type": "code",
   "execution_count": null,
   "metadata": {},
   "outputs": [],
   "source": [
    "st = pd.DataFrame(data=socios_telefones, columns=[\"Nome Sócio\", \"CNPJ/CPF Sócio\", \"Telefone\"])"
   ]
  },
  {
   "cell_type": "code",
   "execution_count": 65,
   "metadata": {},
   "outputs": [],
   "source": [
    "socios_final = pd.merge(socios, st, how=\"inner\", on=[\"Nome Sócio\",\"CNPJ/CPF Sócio\"])"
   ]
  },
  {
   "cell_type": "code",
   "execution_count": null,
   "metadata": {},
   "outputs": [],
   "source": []
  }
 ],
 "metadata": {
  "kernelspec": {
   "display_name": "Python 3",
   "language": "python",
   "name": "python3"
  },
  "language_info": {
   "codemirror_mode": {
    "name": "ipython",
    "version": 3
   },
   "file_extension": ".py",
   "mimetype": "text/x-python",
   "name": "python",
   "nbconvert_exporter": "python",
   "pygments_lexer": "ipython3",
   "version": "3.10.12"
  },
  "orig_nbformat": 4
 },
 "nbformat": 4,
 "nbformat_minor": 2
}
