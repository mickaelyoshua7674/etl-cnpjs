{
 "cells": [
  {
   "cell_type": "code",
   "execution_count": 9,
   "metadata": {},
   "outputs": [],
   "source": [
    "import pandas as pd\n",
    "import json"
   ]
  },
  {
   "cell_type": "code",
   "execution_count": 10,
   "metadata": {},
   "outputs": [],
   "source": [
    "with open(\"all_dtypes.json\", \"r\") as f:\n",
    "    dtypes = json.load(f)"
   ]
  },
  {
   "cell_type": "code",
   "execution_count": 11,
   "metadata": {},
   "outputs": [
    {
     "name": "stdout",
     "output_type": "stream",
     "text": [
      "<class 'pandas.core.frame.DataFrame'>\n",
      "RangeIndex: 1359 entries, 0 to 1358\n",
      "Data columns (total 2 columns):\n",
      " #   Column                 Non-Null Count  Dtype \n",
      "---  ------                 --------------  ----- \n",
      " 0   cnae_fiscal_principal  1359 non-null   object\n",
      " 1   descricao              1359 non-null   object\n",
      "dtypes: object(2)\n",
      "memory usage: 21.4+ KB\n"
     ]
    }
   ],
   "source": [
    "cnae = pd.read_csv(\"mergedfiles/id_cnae_fiscal_principal.csv\", dtype=dtypes[\"id_cnae_fiscal_principal\"])\n",
    "cnae.info()"
   ]
  },
  {
   "cell_type": "code",
   "execution_count": 24,
   "metadata": {},
   "outputs": [
    {
     "name": "stdout",
     "output_type": "stream",
     "text": [
      "<class 'pandas.core.frame.DataFrame'>\n",
      "RangeIndex: 10000 entries, 0 to 9999\n",
      "Data columns (total 7 columns):\n",
      " #   Column                       Non-Null Count  Dtype \n",
      "---  ------                       --------------  ----- \n",
      " 0   cnpj_basico                  10000 non-null  object\n",
      " 1   razao_social                 10000 non-null  object\n",
      " 2   natureza_juridica            10000 non-null  object\n",
      " 3   qualificacoes_responsavel    10000 non-null  int64 \n",
      " 4   capital_social               10000 non-null  object\n",
      " 5   porte_empresa                10000 non-null  object\n",
      " 6   ente_federativo_responsavel  3 non-null      object\n",
      "dtypes: int64(1), object(6)\n",
      "memory usage: 547.0+ KB\n"
     ]
    }
   ],
   "source": [
    "empresas = pd.read_csv(\"mergedfiles/empresas.csv\", chunksize=10_000, dtype={\"cnpj_basico\": \"str\",\n",
    "                                                                            \"porte_empresa\": \"str\",\n",
    "                                                                            \"natureza_juridica\": \"str\"})\n",
    "for chunk in empresas:\n",
    "    chunk.info()\n",
    "    break"
   ]
  },
  {
   "cell_type": "code",
   "execution_count": 25,
   "metadata": {},
   "outputs": [
    {
     "name": "stdout",
     "output_type": "stream",
     "text": [
      "      cnpj_basico                                       razao_social  \\\n",
      "10000    41283621                       LIDER UNIFORMES SERVICE LTDA   \n",
      "10001    41283622  SICREDI FUNDO DE INVESTIMENTO EM COTAS DE FI E...   \n",
      "10002    41283623                       OLINTO CORREIA REPRESENTACAO   \n",
      "10003    41283624               GHALA PET PRODUTOS PARA ANIMAIS LTDA   \n",
      "10004    41283625   ALESSANDRA DAS GRACAS GOMES DA SILVA 07530354728   \n",
      "\n",
      "      natureza_juridica  qualificacoes_responsavel capital_social  \\\n",
      "10000              2062                         49      110000,00   \n",
      "10001              2224                         43           0,00   \n",
      "10002              4014                         34           0,00   \n",
      "10003              2062                         49      110000,00   \n",
      "10004              2135                         50          10,00   \n",
      "\n",
      "      porte_empresa ente_federativo_responsavel  \n",
      "10000            01                         NaN  \n",
      "10001            05                         NaN  \n",
      "10002            05                         NaN  \n",
      "10003            01                         NaN  \n",
      "10004            01                         NaN  \n"
     ]
    }
   ],
   "source": [
    "for chunk in empresas:\n",
    "    print(chunk.head())\n",
    "    break"
   ]
  },
  {
   "cell_type": "code",
   "execution_count": null,
   "metadata": {},
   "outputs": [],
   "source": []
  }
 ],
 "metadata": {
  "kernelspec": {
   "display_name": "Python 3",
   "language": "python",
   "name": "python3"
  },
  "language_info": {
   "codemirror_mode": {
    "name": "ipython",
    "version": 3
   },
   "file_extension": ".py",
   "mimetype": "text/x-python",
   "name": "python",
   "nbconvert_exporter": "python",
   "pygments_lexer": "ipython3",
   "version": "3.10.12"
  },
  "orig_nbformat": 4
 },
 "nbformat": 4,
 "nbformat_minor": 2
}
