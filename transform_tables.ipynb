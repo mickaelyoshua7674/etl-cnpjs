{
 "cells": [
  {
   "cell_type": "code",
   "execution_count": 7,
   "metadata": {},
   "outputs": [],
   "source": [
    "from typing import List, Any\n",
    "import pandas as pd\n",
    "import os, re"
   ]
  },
  {
   "cell_type": "code",
   "execution_count": 8,
   "metadata": {},
   "outputs": [],
   "source": [
    "MERGED_PATH = \"mergedfiles\"\n",
    "TRANSFORMED_PATH = \"transformedfiles\"\n",
    "if not os.path.exists(TRANSFORMED_PATH):\n",
    "    os.mkdir(TRANSFORMED_PATH)"
   ]
  },
  {
   "cell_type": "code",
   "execution_count": 9,
   "metadata": {},
   "outputs": [],
   "source": [
    "def get_files_list(files_dir: str) -> List[str]:\n",
    "    return sorted(os.listdir(files_dir))\n",
    "\n",
    "def sub_char(value: Any) -> None | str:\n",
    "    try:\n",
    "        return re.sub(\"(')|(:)\", \"\", value)\n",
    "    except TypeError:\n",
    "        return value"
   ]
  },
  {
   "cell_type": "code",
   "execution_count": 10,
   "metadata": {},
   "outputs": [
    {
     "name": "stdout",
     "output_type": "stream",
     "text": [
      "0 empresas.csv\n",
      "1 estabelecimentos.csv\n",
      "2 id_cnae_fiscal_principal.csv\n",
      "3 id_motivo_situacao_cadastral.csv\n",
      "4 id_natureza_juridica.csv\n",
      "5 id_qualificacoes.csv\n",
      "6 municipios.csv\n",
      "7 paises.csv\n",
      "8 simples.csv\n",
      "9 socios.csv\n"
     ]
    }
   ],
   "source": [
    "files = get_files_list(MERGED_PATH)\n",
    "for i, f in enumerate(files):\n",
    "    print(i, f)"
   ]
  },
  {
   "cell_type": "markdown",
   "metadata": {},
   "source": [
    "# Empresas"
   ]
  },
  {
   "cell_type": "code",
   "execution_count": 11,
   "metadata": {},
   "outputs": [],
   "source": [
    "empresas_filename = files[0]\n",
    "empresas_path = os.path.join(MERGED_PATH, empresas_filename)"
   ]
  },
  {
   "cell_type": "code",
   "execution_count": 12,
   "metadata": {},
   "outputs": [],
   "source": [
    "empresas = pd.read_csv(empresas_path, chunksize=100_000, dtype={\"cnpj_basico\": \"str\"})\n",
    "\n",
    "header = True\n",
    "save_path_empresas = os.path.join(TRANSFORMED_PATH, empresas_filename)\n",
    "for chunk in empresas:\n",
    "\n",
    "    \n",
    "\n",
    "    chunk = chunk.loc[chunk[\"capital_social\"].str.find(\"capital_social\") == -1]\n",
    "    chunk = chunk.fillna(value={\"natureza_juridica\": 0,\n",
    "                                \"qualificacoes\": 0,\n",
    "                                \"porte_empresa\": 0})\n",
    "\n",
    "    chunk[\"capital_social\"] = chunk[\"capital_social\"].apply(lambda x: x.replace(\",\", \".\")).astype(float)\n",
    "\n",
    "    chunk = chunk.apply(sub_char)\n",
    "\n",
    "    chunk.to_csv(save_path_empresas, header=header, index=False, mode=\"a\")\n",
    "    header = False"
   ]
  },
  {
   "cell_type": "markdown",
   "metadata": {},
   "source": [
    "# Estabelecimentos"
   ]
  },
  {
   "cell_type": "code",
   "execution_count": 13,
   "metadata": {},
   "outputs": [],
   "source": [
    "estabelecimentos_filename = files[1]\n",
    "estabelecimentos_path = os.path.join(MERGED_PATH, estabelecimentos_filename)"
   ]
  },
  {
   "cell_type": "code",
   "execution_count": 14,
   "metadata": {},
   "outputs": [],
   "source": [
    "import warnings # disable warnings od pandas\n",
    "warnings.filterwarnings(\"ignore\")"
   ]
  },
  {
   "cell_type": "code",
   "execution_count": 15,
   "metadata": {},
   "outputs": [],
   "source": [
    "estabelecimentos = pd.read_csv(estabelecimentos_path, chunksize=100_000, dtype={\"cnpj_basico\": \"str\",\n",
    "                                                                                \"cnpj_ordem\": \"str\",\n",
    "                                                                                \"cnpj_dv\": \"str\",\n",
    "                                                                                \"data_situacao_cadastral\": \"str\",\n",
    "                                                                                \"data_inicio_atividade\": \"str\",\n",
    "                                                                                \"cep\": \"str\",\n",
    "                                                                                \"ddd1\": \"str\",\n",
    "                                                                                \"telefone1\": \"str\",\n",
    "                                                                                \"ddd2\": \"str\",\n",
    "                                                                                \"telefone2\": \"str\",\n",
    "                                                                                \"ddd_fax\": \"str\",\n",
    "                                                                                \"situacao_especial\": \"str\",\n",
    "                                                                                \"data_situacao_especial\": \"str\"})\n",
    "\n",
    "header = True\n",
    "save_path_estabelecimentos = os.path.join(TRANSFORMED_PATH, estabelecimentos_filename)\n",
    "\n",
    "for chunk in estabelecimentos:\n",
    "\n",
    "    chunk = chunk.loc[chunk[\"cnpj_basico\"] != \"cnpj_basico\"]\n",
    "    chunk = chunk.fillna(value={\"identificador\": 0,\n",
    "                                \"situacao_cadastral\": 1,\n",
    "                                \"cod_pais\": 999,\n",
    "                                \"cod_municipio\": 0,\n",
    "                                \"cnae_fiscal_principal\": 0,\n",
    "                                \"motivo_situacao_cadastral\": 0})\n",
    "    \n",
    "    chunk[\"cod_pais\"] = chunk[\"cod_pais\"].astype(int)\n",
    "\n",
    "    chunk = chunk.apply(sub_char)\n",
    "\n",
    "    chunk.to_csv(save_path_estabelecimentos, header=header, index=False, mode=\"a\")\n",
    "    header = False"
   ]
  },
  {
   "cell_type": "markdown",
   "metadata": {},
   "source": [
    "# CNAE"
   ]
  },
  {
   "cell_type": "code",
   "execution_count": 16,
   "metadata": {},
   "outputs": [],
   "source": [
    "cnae_filename = files[2]\n",
    "cnae_path = os.path.join(MERGED_PATH, cnae_filename)"
   ]
  },
  {
   "cell_type": "code",
   "execution_count": 17,
   "metadata": {},
   "outputs": [],
   "source": [
    "cnae = pd.read_csv(cnae_path)\n",
    "cnae = cnae.apply(sub_char)\n",
    "\n",
    "save_path_cnae = os.path.join(TRANSFORMED_PATH, cnae_filename)\n",
    "cnae.to_csv(save_path_cnae, header=True, index=False)"
   ]
  },
  {
   "cell_type": "markdown",
   "metadata": {},
   "source": [
    "# Motivo"
   ]
  },
  {
   "cell_type": "code",
   "execution_count": 18,
   "metadata": {},
   "outputs": [],
   "source": [
    "motivo_filename = files[3]\n",
    "motivo_path = os.path.join(MERGED_PATH, motivo_filename)"
   ]
  },
  {
   "cell_type": "code",
   "execution_count": 19,
   "metadata": {},
   "outputs": [],
   "source": [
    "motivo = pd.read_csv(motivo_path)\n",
    "motivo = motivo.apply(sub_char)\n",
    "\n",
    "save_path_motivo = os.path.join(TRANSFORMED_PATH, motivo_filename)\n",
    "motivo.to_csv(save_path_motivo, header=True, index=False)"
   ]
  },
  {
   "cell_type": "markdown",
   "metadata": {},
   "source": [
    "# Natureza Jurídica"
   ]
  },
  {
   "cell_type": "code",
   "execution_count": 20,
   "metadata": {},
   "outputs": [],
   "source": [
    "natjur_filename = files[4]\n",
    "natjur_path = os.path.join(MERGED_PATH, natjur_filename)"
   ]
  },
  {
   "cell_type": "code",
   "execution_count": 21,
   "metadata": {},
   "outputs": [],
   "source": [
    "natjur = pd.read_csv(natjur_path)\n",
    "natjur = natjur.apply(sub_char)\n",
    "\n",
    "save_path_natjur = os.path.join(TRANSFORMED_PATH, natjur_filename)\n",
    "natjur.to_csv(save_path_natjur, header=True, index=False)"
   ]
  },
  {
   "cell_type": "markdown",
   "metadata": {},
   "source": [
    "# Qualificações"
   ]
  },
  {
   "cell_type": "code",
   "execution_count": 22,
   "metadata": {},
   "outputs": [],
   "source": [
    "qualificacoes_filename = files[5]\n",
    "qualificacoes_path = os.path.join(MERGED_PATH, qualificacoes_filename)"
   ]
  },
  {
   "cell_type": "code",
   "execution_count": 23,
   "metadata": {},
   "outputs": [],
   "source": [
    "qualificacoes = pd.read_csv(qualificacoes_path)\n",
    "qualificacoes = qualificacoes.apply(sub_char)\n",
    "\n",
    "save_path_qualificacoes = os.path.join(TRANSFORMED_PATH, qualificacoes_filename)\n",
    "qualificacoes.to_csv(save_path_qualificacoes, header=True, index=False)"
   ]
  },
  {
   "cell_type": "markdown",
   "metadata": {},
   "source": [
    "# Municípios"
   ]
  },
  {
   "cell_type": "code",
   "execution_count": 24,
   "metadata": {},
   "outputs": [],
   "source": [
    "municipios_filename = files[6]\n",
    "municipios_path = os.path.join(MERGED_PATH, municipios_filename)"
   ]
  },
  {
   "cell_type": "code",
   "execution_count": 25,
   "metadata": {},
   "outputs": [],
   "source": [
    "municipios = pd.read_csv(municipios_path)\n",
    "municipios = municipios.apply(sub_char)\n",
    "\n",
    "save_path_municipios = os.path.join(TRANSFORMED_PATH, municipios_filename)\n",
    "municipios.to_csv(save_path_municipios, header=True, index=False)"
   ]
  },
  {
   "cell_type": "markdown",
   "metadata": {},
   "source": [
    "# Países"
   ]
  },
  {
   "cell_type": "code",
   "execution_count": 26,
   "metadata": {},
   "outputs": [],
   "source": [
    "paises_filename = files[7]\n",
    "paises_path = os.path.join(MERGED_PATH, paises_filename)"
   ]
  },
  {
   "cell_type": "code",
   "execution_count": 27,
   "metadata": {},
   "outputs": [],
   "source": [
    "paises = pd.read_csv(paises_path)\n",
    "paises = paises.apply(sub_char)\n",
    "\n",
    "save_path_paises = os.path.join(TRANSFORMED_PATH, paises_filename)\n",
    "paises.to_csv(save_path_paises, header=True, index=False)"
   ]
  },
  {
   "cell_type": "markdown",
   "metadata": {},
   "source": [
    "# Simples"
   ]
  },
  {
   "cell_type": "code",
   "execution_count": 28,
   "metadata": {},
   "outputs": [],
   "source": [
    "simples_filename = files[8]\n",
    "simples_path = os.path.join(MERGED_PATH, simples_filename)"
   ]
  },
  {
   "cell_type": "code",
   "execution_count": 29,
   "metadata": {},
   "outputs": [],
   "source": [
    "simples = pd.read_csv(simples_path, chunksize=100_000)\n",
    "\n",
    "header = True\n",
    "save_path_simples = os.path.join(TRANSFORMED_PATH, simples_filename)\n",
    "for chunk in simples:\n",
    "\n",
    "    chunk = chunk.loc[chunk[\"cnpj_basico\"] != \"cnpj_basico\"]\n",
    "    chunk = chunk.fillna(value={\"opcao_simples\": 2,\n",
    "                                \"opcao_mei\": 2})\n",
    "    \n",
    "    chunk[\"opcao_simples\"] = chunk[\"opcao_simples\"].replace([\"S\", \"N\"], [1, 0])\n",
    "    chunk[\"opcao_mei\"] = chunk[\"opcao_mei\"].replace([\"S\", \"N\"], [1, 0])\n",
    "    \n",
    "    chunk[\"opcao_simples\"] = chunk[\"opcao_simples\"].astype(int)\n",
    "    chunk[\"opcao_mei\"] = chunk[\"opcao_mei\"].astype(int)\n",
    "\n",
    "    chunk = chunk.apply(sub_char)\n",
    "\n",
    "    chunk.to_csv(save_path_simples, header=header, index=False, mode=\"a\")\n",
    "    header = False"
   ]
  },
  {
   "cell_type": "markdown",
   "metadata": {},
   "source": [
    "# Socios"
   ]
  },
  {
   "cell_type": "code",
   "execution_count": 30,
   "metadata": {},
   "outputs": [],
   "source": [
    "socios_filename = files[9]\n",
    "socios_path = os.path.join(MERGED_PATH, socios_filename)"
   ]
  },
  {
   "cell_type": "code",
   "execution_count": 31,
   "metadata": {},
   "outputs": [],
   "source": [
    "socios = pd.read_csv(socios_path, chunksize=100_000)\n",
    "\n",
    "header = True\n",
    "save_path_socios = os.path.join(TRANSFORMED_PATH, socios_filename)\n",
    "for chunk in socios:\n",
    "\n",
    "    chunk = chunk.loc[chunk[\"cnpj_basico\"] != \"cnpj_basico\"]\n",
    "    chunk = chunk.fillna(value={\"identificador_socio\": 0,\n",
    "                                \"cod_pais\": 999,\n",
    "                                \"qualificacoes\": 0})\n",
    "    \n",
    "    chunk[\"cod_pais\"] = chunk[\"cod_pais\"].astype(int)\n",
    "\n",
    "    chunk = chunk.apply(sub_char)\n",
    "\n",
    "    chunk.to_csv(save_path_socios, header=header, index=False, mode=\"a\")\n",
    "    header = False"
   ]
  },
  {
   "cell_type": "code",
   "execution_count": 32,
   "metadata": {},
   "outputs": [],
   "source": [
    "for f in files:\n",
    "    os.remove(os.path.join(MERGED_PATH, f))\n",
    "os.rmdir(MERGED_PATH)"
   ]
  },
  {
   "cell_type": "code",
   "execution_count": null,
   "metadata": {},
   "outputs": [],
   "source": []
  }
 ],
 "metadata": {
  "kernelspec": {
   "display_name": "Python 3",
   "language": "python",
   "name": "python3"
  },
  "language_info": {
   "codemirror_mode": {
    "name": "ipython",
    "version": 3
   },
   "file_extension": ".py",
   "mimetype": "text/x-python",
   "name": "python",
   "nbconvert_exporter": "python",
   "pygments_lexer": "ipython3",
   "version": "3.10.12"
  },
  "orig_nbformat": 4
 },
 "nbformat": 4,
 "nbformat_minor": 2
}
